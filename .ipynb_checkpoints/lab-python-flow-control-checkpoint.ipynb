{
 "cells": [
  {
   "cell_type": "markdown",
   "id": "d3bfc191-8885-42ee-b0a0-bbab867c6f9f",
   "metadata": {
    "tags": []
   },
   "source": [
    "# Lab | Flow Control"
   ]
  },
  {
   "cell_type": "markdown",
   "id": "3851fcd1-cf98-4653-9c89-e003b7ec9400",
   "metadata": {
    "tags": []
   },
   "source": [
    "## Exercise: Managing Customer Orders Optimized\n",
    "\n",
    "In the last lab, you were starting an online store that sells various products. To ensure smooth operations, you developed a program that manages customer orders and inventory.\n",
    "\n",
    "You did so without using flow control. Let's go a step further and improve this code.\n",
    "\n",
    "Follow the steps below to complete the exercise:\n",
    "\n",
    "1. Look at your code from the lab data structures, and improve repeated code with loops.\n",
    "\n",
    "2. Instead of asking the user to input the name of three products that a customer wants to order, do the following:\n",
    "    \n",
    "    a. Prompt the user to enter the name of a product that a customer wants to order.\n",
    "    \n",
    "    b. Add the product name to the \"customer_orders\" set.\n",
    "    \n",
    "    c. Ask the user if they want to add another product (yes/no).\n",
    "    \n",
    "    d. Continue the loop until the user does not want to add another product.\n",
    "\n",
    "3. Instead of updating the inventory by subtracting 1 from the quantity of each product, only do it for  the products that were ordered (those in \"customer_orders\")."
   ]
  },
  {
   "cell_type": "code",
   "execution_count": 9,
   "id": "0a121c73-c321-461c-9a44-bae1ab2deb5c",
   "metadata": {
    "tags": []
   },
   "outputs": [
    {
     "name": "stdin",
     "output_type": "stream",
     "text": [
      "Enter the quantity of t-shirt available:  5\n",
      "Enter the quantity of mug available:  6\n",
      "Enter the quantity of hat available:  5\n",
      "Enter the quantity of book available:  6\n",
      "Enter the quantity of keychain available:  4\n"
     ]
    }
   ],
   "source": [
    "# Step 1\n",
    "products = [\"t-shirt\", \"mug\", \"hat\", \"book\", \"keychain\"]\n",
    "\n",
    "# Step 2\n",
    "inventory = {}\n",
    "\n",
    "# Step 3\n",
    "\n",
    "for product in products:\n",
    "    quantity = int(input(f\"Enter the quantity of {product} available: \"))\n",
    "    inventory[product] = quantity"
   ]
  },
  {
   "cell_type": "code",
   "execution_count": 7,
   "id": "04980693-a6c8-48bf-b126-ea9a22b64b42",
   "metadata": {
    "tags": []
   },
   "outputs": [
    {
     "name": "stdin",
     "output_type": "stream",
     "text": [
      "Enter the name of the product you would like to order:  hat\n",
      "Would you like to continue? yes or no?:  yes\n",
      "Enter the name of the product you would like to order:  book\n",
      "Would you like to continue? yes or no?:  no\n"
     ]
    }
   ],
   "source": [
    "products_list = []\n",
    "keep_going = \"\"\n",
    "while keep_going != \"no\":\n",
    "    product = input(\"Enter the name of the product you would like to order: \")\n",
    "    products_list.append(product)\n",
    "    keep_going = input(\"Would you like to continue? yes or no?: \")\n",
    "    if len(products_list) > 5:\n",
    "        break"
   ]
  },
  {
   "cell_type": "code",
   "execution_count": 8,
   "id": "f61d3fff-34ca-4f36-81ee-544c063bc676",
   "metadata": {
    "tags": []
   },
   "outputs": [
    {
     "name": "stdout",
     "output_type": "stream",
     "text": [
      "{'t-shirt': 4, 'mug': 5, 'hat': 3, 'book': 5, 'keychain': 5}\n"
     ]
    }
   ],
   "source": [
    "\"\"\"Instead of updating the inventory by subtracting 1 from the quantity of each product, \n",
    "only do it for the products that were ordered (those in \"customer_orders\").\"\"\"\n",
    "\n",
    "for i in inventory.keys():\n",
    "    if i in products_list:\n",
    "        inventory[i] -= 1\n",
    "\n",
    "print(inventory)"
   ]
  }
 ],
 "metadata": {
  "kernelspec": {
   "display_name": "Python 3 (ipykernel)",
   "language": "python",
   "name": "python3"
  },
  "language_info": {
   "codemirror_mode": {
    "name": "ipython",
    "version": 3
   },
   "file_extension": ".py",
   "mimetype": "text/x-python",
   "name": "python",
   "nbconvert_exporter": "python",
   "pygments_lexer": "ipython3",
   "version": "3.11.5"
  }
 },
 "nbformat": 4,
 "nbformat_minor": 5
}
